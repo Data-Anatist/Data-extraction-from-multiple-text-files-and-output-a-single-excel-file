{
 "cells": [
  {
   "cell_type": "markdown",
   "metadata": {},
   "source": [
    "# Data extraction from multiple text files and output a single excel file"
   ]
  },
  {
   "cell_type": "markdown",
   "metadata": {},
   "source": [
    "### Import Libraries"
   ]
  },
  {
   "cell_type": "code",
   "execution_count": null,
   "metadata": {},
   "outputs": [],
   "source": [
    "#Import Lib\n",
    "import re\n",
    "import glob\n",
    "import pandas as pd\n",
    "from pandas import ExcelWriter"
   ]
  },
  {
   "cell_type": "markdown",
   "metadata": {},
   "source": [
    "### Code for search needed data from multiple .txt files"
   ]
  },
  {
   "cell_type": "code",
   "execution_count": 4,
   "metadata": {
    "colab": {
     "base_uri": "https://localhost:8080/",
     "height": 221
    },
    "colab_type": "code",
    "executionInfo": {
     "elapsed": 2671,
     "status": "ok",
     "timestamp": 1572610505782,
     "user": {
      "displayName": "Burhanuddin Burhani",
      "photoUrl": "",
      "userId": "07663536602118902877"
     },
     "user_tz": -330
    },
    "id": "agL0yvK9vw5K",
    "outputId": "c00c239f-b2bd-4757-d2b7-741009cd80cd"
   },
   "outputs": [],
   "source": [
    "#Text file folder location\n",
    "file_list = glob.glob('C:/Users/Site Fuel/Desktop/Codes/Colab Notebooks/txt sample files/*.txt')\n",
    "\n",
    "#Defined Veriable\n",
    "new_file_list=[]\n",
    "ip_addresses = []\n",
    "manufacturer = []\n",
    "ntp_addresses = []\n",
    "syslog_addresses = []\n",
    "tacacs_addresses_1 = []\n",
    "tacacs_addresses_2 = []\n",
    "NAC = []\n",
    "snmp = []\n",
    "version = []\n",
    "\n",
    "#For Loop\n",
    "for i in file_list:\n",
    "    f = open(i,\"r\")\n",
    "    text = f.read()\n",
    "    \n",
    "    #File name edit\n",
    "    ifi = i.replace('C:/Users/Site Fuel/Desktop/Codes/Colab Notebooks/txt sample files','')\n",
    "    new_file_list.append(ifi)\n",
    "    \n",
    "    #IP addresses\n",
    "    ip = re.search(r\"\\d+\\.\\d+\\.\\d+\\.\\d+\", i)\n",
    "    try:\n",
    "        ip_addresses.append(ip.group())\n",
    "    except: \n",
    "        ip_addresses.append(\"None\")\n",
    "    \n",
    "    #manufacturer\n",
    "    make_1 = re.search(r'Cisco', text)\n",
    "    make_2 = re.search(r'Brocade', text)\n",
    "    make_3 = re.search(r'Juniper', text)\n",
    "    try:\n",
    "        manufacturer.append(make_1.group(0).split()[0])\n",
    "    except:\n",
    "        try:\n",
    "            manufacturer.append(make_2.group(0).split()[0])\n",
    "        except:\n",
    "            try:\n",
    "                manufacturer.append(make_3.group(0).split()[0])\n",
    "            except:\n",
    "                  manufacturer.append(\"None\")\n",
    "                    \n",
    "    #NTP addresses\n",
    "    ntp_1 = re.search(r'ntp server \\d+\\.\\d+\\.\\d+\\.\\d+', text)\n",
    "    ntp_2 = re.search(r'ntp\\n.server \\d+\\.\\d+\\.\\d+\\.\\d+', text)\n",
    "    ntp_3 = re.search(r'server \\d+\\.\\d+\\.\\d+\\.\\d+ prefer;', text)\n",
    "    try:\n",
    "        ntp_addresses.append(ntp_1.group(0).split()[2])\n",
    "    except:\n",
    "        try:\n",
    "            ntp_addresses.append(ntp_2.group(0).split()[2])\n",
    "        except:\n",
    "            try:\n",
    "                ntp_addresses.append(ntp_3.group(0).split()[1])  \n",
    "            except:\n",
    "                ntp_addresses.append(\"None\")\n",
    "    \n",
    "    #SYSLOG Addresses\n",
    "    syslog_1 = re.search(r'logging host \\d+\\.\\d+\\.\\d+\\.\\d+', text)\n",
    "    syslog_2  = re.search(r'notifications\\nlogging \\d+\\.\\d+\\.\\d+\\.\\d+', text)\n",
    "    try:\n",
    "        syslog_addresses.append(syslog_1.group(0).split()[2])   \n",
    "    except:\n",
    "        try:\n",
    "            syslog_addresses.append(syslog_2.group(0).split()[2]) \n",
    "        except:\n",
    "            syslog_addresses.append(\"None\")\n",
    "    \n",
    "    #TACACS_addresses_1\n",
    "    tacacs_1 = re.search(r'tacacs-server host \\d+\\.\\d+\\.\\d+\\.\\d+', text)\n",
    "    tacacs_2  = re.search(r'tacplus-server \\{(.*?)\\}', text, re.DOTALL)\n",
    "    try:\n",
    "        tacacs_addresses_1.append(tacacs_1.group(0).split()[2]) \n",
    "    except:\n",
    "        try:\n",
    "            tacacs_addresses_1.append(tacacs_2.group(0).split()[2]) \n",
    "        except:\n",
    "            tacacs_addresses_1.append(\"None\")\n",
    "           \n",
    "    #TACACS_addresses_2\n",
    "    tacacs_3 = re.findall(r'(tacacs-server host \\d+\\.\\d+\\.\\d+\\.\\d+)', text)\n",
    "    tacacs_4  = re.search(r'tacplus-server \\{(.*?)\\}', text, re.DOTALL)\n",
    "    try:\n",
    "        tacacs_addresses_2.append(tacacs_3[1].split()[2]) \n",
    "    except:\n",
    "        try:\n",
    "            tacacs_addresses_2.append(tacacs_4.group(0).split()[2]) \n",
    "        except:\n",
    "            tacacs_addresses_2.append(\"None\")\n",
    "    \n",
    "    #NAC_Dot1x\n",
    "    nac = re.search(r'dot1x', text)\n",
    "    try:\n",
    "        NAC.append(nac.group(0).split()[0])\n",
    "    except:\n",
    "        NAC.append(\"None\")\n",
    "    \n",
    "    #SNMP\n",
    "    snmp_1 = re.search(r'snmp-server group GROUP1 v3', text)\n",
    "    snmp_2 = re.search(r'snmp-server host \\d+\\.\\d+\\.\\d+\\.\\d+ version v3', text)\n",
    "    try:\n",
    "        snmp.append(snmp_1.group(0).split()[3])\n",
    "    except:\n",
    "        try:\n",
    "            snmp.append(snmp_2.group(0).split()[4])\n",
    "        except:\n",
    "            snmp.append(\"None\")\n",
    "    \n",
    "    #Version\n",
    "    version_1  = re.search(r'\\SW Version(.*?)\\-M', text, re.DOTALL)\n",
    "    try:\n",
    "        version.append(version_1.group(0).split()[13]) \n",
    "    except:\n",
    "        version.append(\"None\")"
   ]
  },
  {
   "cell_type": "markdown",
   "metadata": {},
   "source": [
    "### Code for dataframe and convert into .xlsx file"
   ]
  },
  {
   "cell_type": "code",
   "execution_count": 5,
   "metadata": {},
   "outputs": [
    {
     "name": "stdout",
     "output_type": "stream",
     "text": [
      "                                       File_Name     IP_address manufacturer  \\\n",
      "0                           \\172.17.51.7 (2).txt    172.17.51.7        Cisco   \n",
      "1                              \\172.18.133.7.txt   172.18.133.7      Brocade   \n",
      "2    \\AOKOLA01SW_RENE1_S2960_7_172.18.124.10.txt  172.18.124.10        Cisco   \n",
      "3                  \\AOMAD34SW_2_172.18.133.7.txt   172.18.133.7         None   \n",
      "4  \\PNE-DISPENBLD-GF-SW3750-02_172.22.72.224.txt  172.22.72.224         None   \n",
      "5  \\PNE-E17GF-COL17-SW2960_172.22.144.37-new.txt  172.22.144.37        Cisco   \n",
      "6      \\PNE-E17GF-COL17-SW2960_172.22.144.37.txt  172.22.144.37        Cisco   \n",
      "7   \\PNE-GDC-SWHP2920-stack03_172.18.4.6 (2).txt     172.18.4.6         None   \n",
      "8        \\PNE_E16-17_FF_Col_15_172.22.144.20.txt  172.22.144.20      Juniper   \n",
      "\n",
      "      NTP_server NAC Server          SysLog       TACACS_1       TACACS_2  \n",
      "0   172.31.9.241       None  172.27.158.186  172.22.66.101  172.22.66.102  \n",
      "1  172.24.47.207      dot1x     128.9.51.48  172.22.66.101  172.22.66.102  \n",
      "2   172.24.26.72      dot1x   172.31.16.181           None           None  \n",
      "3  172.24.47.207      dot1x     128.9.51.48  172.22.66.101  172.22.66.102  \n",
      "4  172.24.47.207      dot1x     128.9.51.48  172.22.66.101  172.22.66.102  \n",
      "5  172.24.47.207       None     128.9.51.48  172.22.66.101  172.22.66.102  \n",
      "6  172.24.47.207       None     128.9.51.48  172.22.66.101  172.22.66.102  \n",
      "7  172.24.47.207       None            None  172.22.66.102  172.22.66.101  \n",
      "8   172.31.9.241       None            None  172.22.66.101  172.22.66.101  \n"
     ]
    }
   ],
   "source": [
    "#Data_Frame for xls\n",
    "new_dict = {'File_Name': new_file_list, 'IP_address': ip_addresses, 'manufacturer' : manufacturer, 'NTP_server': ntp_addresses, 'NAC Server' : NAC, 'SysLog' : syslog_addresses, 'TACACS_1' : tacacs_addresses_1, 'TACACS_2' : tacacs_addresses_2}\n",
    "data_frame= pd.DataFrame(new_dict)\n",
    "print(data_frame)\n",
    "\n",
    "# Data_Frame to EXCEL\n",
    "writer = ExcelWriter('C:/Users/Site Fuel/Desktop/Codes/Colab Notebooks/Output.xlsx')\n",
    "data_frame.to_excel(writer,'Sheet1')\n",
    "writer.save()"
   ]
  }
 ],
 "metadata": {
  "colab": {
   "collapsed_sections": [],
   "name": "Text_extraction_file_update.ipynb",
   "provenance": []
  },
  "kernelspec": {
   "display_name": "Python 3",
   "language": "python",
   "name": "python3"
  },
  "language_info": {
   "codemirror_mode": {
    "name": "ipython",
    "version": 3
   },
   "file_extension": ".py",
   "mimetype": "text/x-python",
   "name": "python",
   "nbconvert_exporter": "python",
   "pygments_lexer": "ipython3",
   "version": "3.6.10"
  }
 },
 "nbformat": 4,
 "nbformat_minor": 1
}
